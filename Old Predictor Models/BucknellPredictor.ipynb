{
 "cells": [
  {
   "cell_type": "code",
   "id": "initial_id",
   "metadata": {
    "collapsed": true,
    "ExecuteTime": {
     "end_time": "2025-03-24T23:39:13.913709Z",
     "start_time": "2025-03-24T23:39:13.907344Z"
    }
   },
   "source": [
    "import pandas as pd\n",
    "import numpy as np\n",
    "from sklearn.model_selection import train_test_split\n",
    "from sklearn.ensemble import RandomForestClassifier\n",
    "from sklearn.metrics import accuracy_score"
   ],
   "outputs": [],
   "execution_count": 43
  },
  {
   "metadata": {
    "ExecuteTime": {
     "end_time": "2025-03-24T23:39:14.045029Z",
     "start_time": "2025-03-24T23:39:13.919002Z"
    }
   },
   "cell_type": "code",
   "source": [
    "# Load the match data from excel file\n",
    "df = pd.read_excel('match_data.xlsx', sheet_name='Sheet2')"
   ],
   "id": "638532b4515335ae",
   "outputs": [],
   "execution_count": 44
  },
  {
   "metadata": {
    "ExecuteTime": {
     "end_time": "2025-03-24T23:39:14.067843Z",
     "start_time": "2025-03-24T23:39:14.063439Z"
    }
   },
   "cell_type": "code",
   "source": [
    "# Data preprocessing\n",
    "# Convert date to datetime format\n",
    "df['Date'] = pd.to_datetime(df['Date'], errors='coerce')\n",
    "\n",
    "# Create encodings for categorical variables\n",
    "df[\"home_team_code\"] = df[\"home_team\"].astype(\"category\").cat.codes\n",
    "df[\"away_team_code\"] = df[\"away_team\"].astype(\"category\").cat.codes\n",
    "df[\"stadium_code\"] = df[\"Stadium\"].astype(\"category\").cat.codes\n",
    "df[\"day_of_week\"] = df[\"Date\"].dt.dayofweek"
   ],
   "id": "8a85431a07c151de",
   "outputs": [],
   "execution_count": 45
  },
  {
   "metadata": {
    "ExecuteTime": {
     "end_time": "2025-03-24T23:39:14.086407Z",
     "start_time": "2025-03-24T23:39:14.082992Z"
    }
   },
   "cell_type": "code",
   "source": [
    "# Create target variable based on goals scored\n",
    "result_list = []\n",
    "for idx, row in df.iterrows():\n",
    "    if row['goals_home'] > row['goals_away']:\n",
    "        result_list.append('W')\n",
    "    elif row['goals_home'] < row['goals_away']:\n",
    "        result_list.append('L')\n",
    "    else:\n",
    "        result_list.append('D')\n",
    "\n",
    "df[\"Result\"] = result_list\n",
    "\n",
    "# Map results to target values\n",
    "df[\"target\"] = df[\"Result\"].map({\"W\": 1, \"L\": 0, \"D\": 2})"
   ],
   "id": "790aa1501fd664b3",
   "outputs": [],
   "execution_count": 46
  },
  {
   "metadata": {
    "ExecuteTime": {
     "end_time": "2025-03-24T23:39:14.106890Z",
     "start_time": "2025-03-24T23:39:14.102214Z"
    }
   },
   "cell_type": "code",
   "source": [
    "# Calculate home and away points per game\n",
    "# Group by home team and calculate average goals\n",
    "home_stats = df.groupby('home_team')['goals_home'].mean().reset_index()\n",
    "home_stats.columns = ['team', 'home_ppg']\n",
    "\n",
    "# Group by away team and calculate average goals\n",
    "away_stats = df.groupby('away_team')['goals_away'].mean().reset_index()\n",
    "away_stats.columns = ['team', 'away_ppg']\n",
    "\n",
    "# Merge with the main dataframe\n",
    "df = pd.merge(df, home_stats, left_on='home_team', right_on='team', how='left')\n",
    "df = pd.merge(df, away_stats, left_on='away_team', right_on='team', how='left')"
   ],
   "id": "176519a4a84cfa09",
   "outputs": [],
   "execution_count": 47
  },
  {
   "metadata": {
    "ExecuteTime": {
     "end_time": "2025-03-24T23:39:14.124575Z",
     "start_time": "2025-03-24T23:39:14.122294Z"
    }
   },
   "cell_type": "code",
   "source": [
    "# Drop the unnecessary columns\n",
    "df.drop(['team_x', 'team_y'], axis=1, inplace=True, errors='ignore')"
   ],
   "id": "ab19702ad8bb83db",
   "outputs": [],
   "execution_count": 48
  },
  {
   "metadata": {
    "ExecuteTime": {
     "end_time": "2025-03-24T23:39:14.143146Z",
     "start_time": "2025-03-24T23:39:14.140043Z"
    }
   },
   "cell_type": "code",
   "source": [
    "# Define predictors (features) for the model\n",
    "predictors = [\"home_team_code\", \"away_team_code\", \"stadium_code\", \"day_of_week\",\n",
    "              \"home_ppg\", \"away_ppg\"]\n",
    "\n",
    "# Split data using all non-Bucknell matches for training and keep Bucknell matches for prediction\n",
    "bucknell_matches = df[(df['home_team'] == 'Bucknell') | (df['away_team'] == 'Bucknell')]\n",
    "other_matches = df[(df['home_team'] != 'Bucknell') & (df['away_team'] != 'Bucknell')]\n",
    "\n",
    "print(f\"Total Bucknell matches found: {len(bucknell_matches)}\")"
   ],
   "id": "afb492f7e765f0e0",
   "outputs": [
    {
     "name": "stdout",
     "output_type": "stream",
     "text": [
      "Total Bucknell matches found: 6\n"
     ]
    }
   ],
   "execution_count": 49
  },
  {
   "metadata": {
    "ExecuteTime": {
     "end_time": "2025-03-24T23:39:14.161707Z",
     "start_time": "2025-03-24T23:39:14.159245Z"
    }
   },
   "cell_type": "code",
   "source": [
    "# Use other matches for training\n",
    "training_data, testing_data = train_test_split(other_matches, test_size=0.2, random_state=42)"
   ],
   "id": "120c493809dfbd8e",
   "outputs": [],
   "execution_count": 50
  },
  {
   "metadata": {
    "ExecuteTime": {
     "end_time": "2025-03-24T23:39:14.584041Z",
     "start_time": "2025-03-24T23:39:14.178903Z"
    }
   },
   "cell_type": "code",
   "source": [
    "# Initialize and train the model\n",
    "rf = RandomForestClassifier(\n",
    "    n_estimators=1000,\n",
    "    max_depth=15,\n",
    "    min_samples_split=2,\n",
    "    class_weight='balanced',\n",
    "    random_state=42\n",
    ")\n",
    "rf.fit(training_data[predictors], training_data[\"target\"])"
   ],
   "id": "d48986bbd907916e",
   "outputs": [
    {
     "data": {
      "text/plain": [
       "RandomForestClassifier(class_weight='balanced', max_depth=15, n_estimators=1000,\n",
       "                       random_state=42)"
      ],
      "text/html": [
       "<style>#sk-container-id-7 {\n",
       "  /* Definition of color scheme common for light and dark mode */\n",
       "  --sklearn-color-text: #000;\n",
       "  --sklearn-color-text-muted: #666;\n",
       "  --sklearn-color-line: gray;\n",
       "  /* Definition of color scheme for unfitted estimators */\n",
       "  --sklearn-color-unfitted-level-0: #fff5e6;\n",
       "  --sklearn-color-unfitted-level-1: #f6e4d2;\n",
       "  --sklearn-color-unfitted-level-2: #ffe0b3;\n",
       "  --sklearn-color-unfitted-level-3: chocolate;\n",
       "  /* Definition of color scheme for fitted estimators */\n",
       "  --sklearn-color-fitted-level-0: #f0f8ff;\n",
       "  --sklearn-color-fitted-level-1: #d4ebff;\n",
       "  --sklearn-color-fitted-level-2: #b3dbfd;\n",
       "  --sklearn-color-fitted-level-3: cornflowerblue;\n",
       "\n",
       "  /* Specific color for light theme */\n",
       "  --sklearn-color-text-on-default-background: var(--sg-text-color, var(--theme-code-foreground, var(--jp-content-font-color1, black)));\n",
       "  --sklearn-color-background: var(--sg-background-color, var(--theme-background, var(--jp-layout-color0, white)));\n",
       "  --sklearn-color-border-box: var(--sg-text-color, var(--theme-code-foreground, var(--jp-content-font-color1, black)));\n",
       "  --sklearn-color-icon: #696969;\n",
       "\n",
       "  @media (prefers-color-scheme: dark) {\n",
       "    /* Redefinition of color scheme for dark theme */\n",
       "    --sklearn-color-text-on-default-background: var(--sg-text-color, var(--theme-code-foreground, var(--jp-content-font-color1, white)));\n",
       "    --sklearn-color-background: var(--sg-background-color, var(--theme-background, var(--jp-layout-color0, #111)));\n",
       "    --sklearn-color-border-box: var(--sg-text-color, var(--theme-code-foreground, var(--jp-content-font-color1, white)));\n",
       "    --sklearn-color-icon: #878787;\n",
       "  }\n",
       "}\n",
       "\n",
       "#sk-container-id-7 {\n",
       "  color: var(--sklearn-color-text);\n",
       "}\n",
       "\n",
       "#sk-container-id-7 pre {\n",
       "  padding: 0;\n",
       "}\n",
       "\n",
       "#sk-container-id-7 input.sk-hidden--visually {\n",
       "  border: 0;\n",
       "  clip: rect(1px 1px 1px 1px);\n",
       "  clip: rect(1px, 1px, 1px, 1px);\n",
       "  height: 1px;\n",
       "  margin: -1px;\n",
       "  overflow: hidden;\n",
       "  padding: 0;\n",
       "  position: absolute;\n",
       "  width: 1px;\n",
       "}\n",
       "\n",
       "#sk-container-id-7 div.sk-dashed-wrapped {\n",
       "  border: 1px dashed var(--sklearn-color-line);\n",
       "  margin: 0 0.4em 0.5em 0.4em;\n",
       "  box-sizing: border-box;\n",
       "  padding-bottom: 0.4em;\n",
       "  background-color: var(--sklearn-color-background);\n",
       "}\n",
       "\n",
       "#sk-container-id-7 div.sk-container {\n",
       "  /* jupyter's `normalize.less` sets `[hidden] { display: none; }`\n",
       "     but bootstrap.min.css set `[hidden] { display: none !important; }`\n",
       "     so we also need the `!important` here to be able to override the\n",
       "     default hidden behavior on the sphinx rendered scikit-learn.org.\n",
       "     See: https://github.com/scikit-learn/scikit-learn/issues/21755 */\n",
       "  display: inline-block !important;\n",
       "  position: relative;\n",
       "}\n",
       "\n",
       "#sk-container-id-7 div.sk-text-repr-fallback {\n",
       "  display: none;\n",
       "}\n",
       "\n",
       "div.sk-parallel-item,\n",
       "div.sk-serial,\n",
       "div.sk-item {\n",
       "  /* draw centered vertical line to link estimators */\n",
       "  background-image: linear-gradient(var(--sklearn-color-text-on-default-background), var(--sklearn-color-text-on-default-background));\n",
       "  background-size: 2px 100%;\n",
       "  background-repeat: no-repeat;\n",
       "  background-position: center center;\n",
       "}\n",
       "\n",
       "/* Parallel-specific style estimator block */\n",
       "\n",
       "#sk-container-id-7 div.sk-parallel-item::after {\n",
       "  content: \"\";\n",
       "  width: 100%;\n",
       "  border-bottom: 2px solid var(--sklearn-color-text-on-default-background);\n",
       "  flex-grow: 1;\n",
       "}\n",
       "\n",
       "#sk-container-id-7 div.sk-parallel {\n",
       "  display: flex;\n",
       "  align-items: stretch;\n",
       "  justify-content: center;\n",
       "  background-color: var(--sklearn-color-background);\n",
       "  position: relative;\n",
       "}\n",
       "\n",
       "#sk-container-id-7 div.sk-parallel-item {\n",
       "  display: flex;\n",
       "  flex-direction: column;\n",
       "}\n",
       "\n",
       "#sk-container-id-7 div.sk-parallel-item:first-child::after {\n",
       "  align-self: flex-end;\n",
       "  width: 50%;\n",
       "}\n",
       "\n",
       "#sk-container-id-7 div.sk-parallel-item:last-child::after {\n",
       "  align-self: flex-start;\n",
       "  width: 50%;\n",
       "}\n",
       "\n",
       "#sk-container-id-7 div.sk-parallel-item:only-child::after {\n",
       "  width: 0;\n",
       "}\n",
       "\n",
       "/* Serial-specific style estimator block */\n",
       "\n",
       "#sk-container-id-7 div.sk-serial {\n",
       "  display: flex;\n",
       "  flex-direction: column;\n",
       "  align-items: center;\n",
       "  background-color: var(--sklearn-color-background);\n",
       "  padding-right: 1em;\n",
       "  padding-left: 1em;\n",
       "}\n",
       "\n",
       "\n",
       "/* Toggleable style: style used for estimator/Pipeline/ColumnTransformer box that is\n",
       "clickable and can be expanded/collapsed.\n",
       "- Pipeline and ColumnTransformer use this feature and define the default style\n",
       "- Estimators will overwrite some part of the style using the `sk-estimator` class\n",
       "*/\n",
       "\n",
       "/* Pipeline and ColumnTransformer style (default) */\n",
       "\n",
       "#sk-container-id-7 div.sk-toggleable {\n",
       "  /* Default theme specific background. It is overwritten whether we have a\n",
       "  specific estimator or a Pipeline/ColumnTransformer */\n",
       "  background-color: var(--sklearn-color-background);\n",
       "}\n",
       "\n",
       "/* Toggleable label */\n",
       "#sk-container-id-7 label.sk-toggleable__label {\n",
       "  cursor: pointer;\n",
       "  display: flex;\n",
       "  width: 100%;\n",
       "  margin-bottom: 0;\n",
       "  padding: 0.5em;\n",
       "  box-sizing: border-box;\n",
       "  text-align: center;\n",
       "  align-items: start;\n",
       "  justify-content: space-between;\n",
       "  gap: 0.5em;\n",
       "}\n",
       "\n",
       "#sk-container-id-7 label.sk-toggleable__label .caption {\n",
       "  font-size: 0.6rem;\n",
       "  font-weight: lighter;\n",
       "  color: var(--sklearn-color-text-muted);\n",
       "}\n",
       "\n",
       "#sk-container-id-7 label.sk-toggleable__label-arrow:before {\n",
       "  /* Arrow on the left of the label */\n",
       "  content: \"▸\";\n",
       "  float: left;\n",
       "  margin-right: 0.25em;\n",
       "  color: var(--sklearn-color-icon);\n",
       "}\n",
       "\n",
       "#sk-container-id-7 label.sk-toggleable__label-arrow:hover:before {\n",
       "  color: var(--sklearn-color-text);\n",
       "}\n",
       "\n",
       "/* Toggleable content - dropdown */\n",
       "\n",
       "#sk-container-id-7 div.sk-toggleable__content {\n",
       "  max-height: 0;\n",
       "  max-width: 0;\n",
       "  overflow: hidden;\n",
       "  text-align: left;\n",
       "  /* unfitted */\n",
       "  background-color: var(--sklearn-color-unfitted-level-0);\n",
       "}\n",
       "\n",
       "#sk-container-id-7 div.sk-toggleable__content.fitted {\n",
       "  /* fitted */\n",
       "  background-color: var(--sklearn-color-fitted-level-0);\n",
       "}\n",
       "\n",
       "#sk-container-id-7 div.sk-toggleable__content pre {\n",
       "  margin: 0.2em;\n",
       "  border-radius: 0.25em;\n",
       "  color: var(--sklearn-color-text);\n",
       "  /* unfitted */\n",
       "  background-color: var(--sklearn-color-unfitted-level-0);\n",
       "}\n",
       "\n",
       "#sk-container-id-7 div.sk-toggleable__content.fitted pre {\n",
       "  /* unfitted */\n",
       "  background-color: var(--sklearn-color-fitted-level-0);\n",
       "}\n",
       "\n",
       "#sk-container-id-7 input.sk-toggleable__control:checked~div.sk-toggleable__content {\n",
       "  /* Expand drop-down */\n",
       "  max-height: 200px;\n",
       "  max-width: 100%;\n",
       "  overflow: auto;\n",
       "}\n",
       "\n",
       "#sk-container-id-7 input.sk-toggleable__control:checked~label.sk-toggleable__label-arrow:before {\n",
       "  content: \"▾\";\n",
       "}\n",
       "\n",
       "/* Pipeline/ColumnTransformer-specific style */\n",
       "\n",
       "#sk-container-id-7 div.sk-label input.sk-toggleable__control:checked~label.sk-toggleable__label {\n",
       "  color: var(--sklearn-color-text);\n",
       "  background-color: var(--sklearn-color-unfitted-level-2);\n",
       "}\n",
       "\n",
       "#sk-container-id-7 div.sk-label.fitted input.sk-toggleable__control:checked~label.sk-toggleable__label {\n",
       "  background-color: var(--sklearn-color-fitted-level-2);\n",
       "}\n",
       "\n",
       "/* Estimator-specific style */\n",
       "\n",
       "/* Colorize estimator box */\n",
       "#sk-container-id-7 div.sk-estimator input.sk-toggleable__control:checked~label.sk-toggleable__label {\n",
       "  /* unfitted */\n",
       "  background-color: var(--sklearn-color-unfitted-level-2);\n",
       "}\n",
       "\n",
       "#sk-container-id-7 div.sk-estimator.fitted input.sk-toggleable__control:checked~label.sk-toggleable__label {\n",
       "  /* fitted */\n",
       "  background-color: var(--sklearn-color-fitted-level-2);\n",
       "}\n",
       "\n",
       "#sk-container-id-7 div.sk-label label.sk-toggleable__label,\n",
       "#sk-container-id-7 div.sk-label label {\n",
       "  /* The background is the default theme color */\n",
       "  color: var(--sklearn-color-text-on-default-background);\n",
       "}\n",
       "\n",
       "/* On hover, darken the color of the background */\n",
       "#sk-container-id-7 div.sk-label:hover label.sk-toggleable__label {\n",
       "  color: var(--sklearn-color-text);\n",
       "  background-color: var(--sklearn-color-unfitted-level-2);\n",
       "}\n",
       "\n",
       "/* Label box, darken color on hover, fitted */\n",
       "#sk-container-id-7 div.sk-label.fitted:hover label.sk-toggleable__label.fitted {\n",
       "  color: var(--sklearn-color-text);\n",
       "  background-color: var(--sklearn-color-fitted-level-2);\n",
       "}\n",
       "\n",
       "/* Estimator label */\n",
       "\n",
       "#sk-container-id-7 div.sk-label label {\n",
       "  font-family: monospace;\n",
       "  font-weight: bold;\n",
       "  display: inline-block;\n",
       "  line-height: 1.2em;\n",
       "}\n",
       "\n",
       "#sk-container-id-7 div.sk-label-container {\n",
       "  text-align: center;\n",
       "}\n",
       "\n",
       "/* Estimator-specific */\n",
       "#sk-container-id-7 div.sk-estimator {\n",
       "  font-family: monospace;\n",
       "  border: 1px dotted var(--sklearn-color-border-box);\n",
       "  border-radius: 0.25em;\n",
       "  box-sizing: border-box;\n",
       "  margin-bottom: 0.5em;\n",
       "  /* unfitted */\n",
       "  background-color: var(--sklearn-color-unfitted-level-0);\n",
       "}\n",
       "\n",
       "#sk-container-id-7 div.sk-estimator.fitted {\n",
       "  /* fitted */\n",
       "  background-color: var(--sklearn-color-fitted-level-0);\n",
       "}\n",
       "\n",
       "/* on hover */\n",
       "#sk-container-id-7 div.sk-estimator:hover {\n",
       "  /* unfitted */\n",
       "  background-color: var(--sklearn-color-unfitted-level-2);\n",
       "}\n",
       "\n",
       "#sk-container-id-7 div.sk-estimator.fitted:hover {\n",
       "  /* fitted */\n",
       "  background-color: var(--sklearn-color-fitted-level-2);\n",
       "}\n",
       "\n",
       "/* Specification for estimator info (e.g. \"i\" and \"?\") */\n",
       "\n",
       "/* Common style for \"i\" and \"?\" */\n",
       "\n",
       ".sk-estimator-doc-link,\n",
       "a:link.sk-estimator-doc-link,\n",
       "a:visited.sk-estimator-doc-link {\n",
       "  float: right;\n",
       "  font-size: smaller;\n",
       "  line-height: 1em;\n",
       "  font-family: monospace;\n",
       "  background-color: var(--sklearn-color-background);\n",
       "  border-radius: 1em;\n",
       "  height: 1em;\n",
       "  width: 1em;\n",
       "  text-decoration: none !important;\n",
       "  margin-left: 0.5em;\n",
       "  text-align: center;\n",
       "  /* unfitted */\n",
       "  border: var(--sklearn-color-unfitted-level-1) 1pt solid;\n",
       "  color: var(--sklearn-color-unfitted-level-1);\n",
       "}\n",
       "\n",
       ".sk-estimator-doc-link.fitted,\n",
       "a:link.sk-estimator-doc-link.fitted,\n",
       "a:visited.sk-estimator-doc-link.fitted {\n",
       "  /* fitted */\n",
       "  border: var(--sklearn-color-fitted-level-1) 1pt solid;\n",
       "  color: var(--sklearn-color-fitted-level-1);\n",
       "}\n",
       "\n",
       "/* On hover */\n",
       "div.sk-estimator:hover .sk-estimator-doc-link:hover,\n",
       ".sk-estimator-doc-link:hover,\n",
       "div.sk-label-container:hover .sk-estimator-doc-link:hover,\n",
       ".sk-estimator-doc-link:hover {\n",
       "  /* unfitted */\n",
       "  background-color: var(--sklearn-color-unfitted-level-3);\n",
       "  color: var(--sklearn-color-background);\n",
       "  text-decoration: none;\n",
       "}\n",
       "\n",
       "div.sk-estimator.fitted:hover .sk-estimator-doc-link.fitted:hover,\n",
       ".sk-estimator-doc-link.fitted:hover,\n",
       "div.sk-label-container:hover .sk-estimator-doc-link.fitted:hover,\n",
       ".sk-estimator-doc-link.fitted:hover {\n",
       "  /* fitted */\n",
       "  background-color: var(--sklearn-color-fitted-level-3);\n",
       "  color: var(--sklearn-color-background);\n",
       "  text-decoration: none;\n",
       "}\n",
       "\n",
       "/* Span, style for the box shown on hovering the info icon */\n",
       ".sk-estimator-doc-link span {\n",
       "  display: none;\n",
       "  z-index: 9999;\n",
       "  position: relative;\n",
       "  font-weight: normal;\n",
       "  right: .2ex;\n",
       "  padding: .5ex;\n",
       "  margin: .5ex;\n",
       "  width: min-content;\n",
       "  min-width: 20ex;\n",
       "  max-width: 50ex;\n",
       "  color: var(--sklearn-color-text);\n",
       "  box-shadow: 2pt 2pt 4pt #999;\n",
       "  /* unfitted */\n",
       "  background: var(--sklearn-color-unfitted-level-0);\n",
       "  border: .5pt solid var(--sklearn-color-unfitted-level-3);\n",
       "}\n",
       "\n",
       ".sk-estimator-doc-link.fitted span {\n",
       "  /* fitted */\n",
       "  background: var(--sklearn-color-fitted-level-0);\n",
       "  border: var(--sklearn-color-fitted-level-3);\n",
       "}\n",
       "\n",
       ".sk-estimator-doc-link:hover span {\n",
       "  display: block;\n",
       "}\n",
       "\n",
       "/* \"?\"-specific style due to the `<a>` HTML tag */\n",
       "\n",
       "#sk-container-id-7 a.estimator_doc_link {\n",
       "  float: right;\n",
       "  font-size: 1rem;\n",
       "  line-height: 1em;\n",
       "  font-family: monospace;\n",
       "  background-color: var(--sklearn-color-background);\n",
       "  border-radius: 1rem;\n",
       "  height: 1rem;\n",
       "  width: 1rem;\n",
       "  text-decoration: none;\n",
       "  /* unfitted */\n",
       "  color: var(--sklearn-color-unfitted-level-1);\n",
       "  border: var(--sklearn-color-unfitted-level-1) 1pt solid;\n",
       "}\n",
       "\n",
       "#sk-container-id-7 a.estimator_doc_link.fitted {\n",
       "  /* fitted */\n",
       "  border: var(--sklearn-color-fitted-level-1) 1pt solid;\n",
       "  color: var(--sklearn-color-fitted-level-1);\n",
       "}\n",
       "\n",
       "/* On hover */\n",
       "#sk-container-id-7 a.estimator_doc_link:hover {\n",
       "  /* unfitted */\n",
       "  background-color: var(--sklearn-color-unfitted-level-3);\n",
       "  color: var(--sklearn-color-background);\n",
       "  text-decoration: none;\n",
       "}\n",
       "\n",
       "#sk-container-id-7 a.estimator_doc_link.fitted:hover {\n",
       "  /* fitted */\n",
       "  background-color: var(--sklearn-color-fitted-level-3);\n",
       "}\n",
       "</style><div id=\"sk-container-id-7\" class=\"sk-top-container\"><div class=\"sk-text-repr-fallback\"><pre>RandomForestClassifier(class_weight=&#x27;balanced&#x27;, max_depth=15, n_estimators=1000,\n",
       "                       random_state=42)</pre><b>In a Jupyter environment, please rerun this cell to show the HTML representation or trust the notebook. <br />On GitHub, the HTML representation is unable to render, please try loading this page with nbviewer.org.</b></div><div class=\"sk-container\" hidden><div class=\"sk-item\"><div class=\"sk-estimator fitted sk-toggleable\"><input class=\"sk-toggleable__control sk-hidden--visually\" id=\"sk-estimator-id-7\" type=\"checkbox\" checked><label for=\"sk-estimator-id-7\" class=\"sk-toggleable__label fitted sk-toggleable__label-arrow\"><div><div>RandomForestClassifier</div></div><div><a class=\"sk-estimator-doc-link fitted\" rel=\"noreferrer\" target=\"_blank\" href=\"https://scikit-learn.org/1.6/modules/generated/sklearn.ensemble.RandomForestClassifier.html\">?<span>Documentation for RandomForestClassifier</span></a><span class=\"sk-estimator-doc-link fitted\">i<span>Fitted</span></span></div></label><div class=\"sk-toggleable__content fitted\"><pre>RandomForestClassifier(class_weight=&#x27;balanced&#x27;, max_depth=15, n_estimators=1000,\n",
       "                       random_state=42)</pre></div> </div></div></div></div>"
      ]
     },
     "execution_count": 51,
     "metadata": {},
     "output_type": "execute_result"
    }
   ],
   "execution_count": 51
  },
  {
   "metadata": {
    "ExecuteTime": {
     "end_time": "2025-03-24T23:39:14.627474Z",
     "start_time": "2025-03-24T23:39:14.600824Z"
    }
   },
   "cell_type": "code",
   "source": [
    "# Evaluate model accuracy\n",
    "test_preds = rf.predict(testing_data[predictors])\n",
    "accuracy = accuracy_score(testing_data[\"target\"], test_preds)\n",
    "print(f\"\\nModel accuracy on non-Bucknell matches: {accuracy:.4f}\")"
   ],
   "id": "f609f5d938f54ab8",
   "outputs": [
    {
     "name": "stdout",
     "output_type": "stream",
     "text": [
      "\n",
      "Model accuracy on non-Bucknell matches: 0.1250\n"
     ]
    }
   ],
   "execution_count": 52
  },
  {
   "metadata": {
    "ExecuteTime": {
     "end_time": "2025-03-24T23:39:14.668255Z",
     "start_time": "2025-03-24T23:39:14.642934Z"
    }
   },
   "cell_type": "code",
   "source": [
    "# Make predictions for Bucknell matches\n",
    "bucknell_predictions = rf.predict(bucknell_matches[predictors])\n",
    "bucknell_matches.loc[:, \"prediction\"] = bucknell_predictions"
   ],
   "id": "8860cafe0973b59d",
   "outputs": [
    {
     "name": "stderr",
     "output_type": "stream",
     "text": [
      "/var/folders/n1/bmjsnf2966g83zq6vpf1f_xh0000gn/T/ipykernel_29323/3060032532.py:3: SettingWithCopyWarning: \n",
      "A value is trying to be set on a copy of a slice from a DataFrame.\n",
      "Try using .loc[row_indexer,col_indexer] = value instead\n",
      "\n",
      "See the caveats in the documentation: https://pandas.pydata.org/pandas-docs/stable/user_guide/indexing.html#returning-a-view-versus-a-copy\n",
      "  bucknell_matches.loc[:, \"prediction\"] = bucknell_predictions\n"
     ]
    }
   ],
   "execution_count": 53
  },
  {
   "metadata": {
    "ExecuteTime": {
     "end_time": "2025-03-24T23:39:14.686413Z",
     "start_time": "2025-03-24T23:39:14.683975Z"
    }
   },
   "cell_type": "code",
   "source": [
    "# Map prediction codes to result labels for better readability\n",
    "prediction_map = {1: \"Home Win\", 0: \"Away Win\", 2: \"Draw\"}\n",
    "bucknell_matches.loc[:, 'prediction_result'] = bucknell_matches['prediction'].map(prediction_map)"
   ],
   "id": "7381fc17fbc1fa4c",
   "outputs": [
    {
     "name": "stderr",
     "output_type": "stream",
     "text": [
      "/var/folders/n1/bmjsnf2966g83zq6vpf1f_xh0000gn/T/ipykernel_29323/568166026.py:3: SettingWithCopyWarning: \n",
      "A value is trying to be set on a copy of a slice from a DataFrame.\n",
      "Try using .loc[row_indexer,col_indexer] = value instead\n",
      "\n",
      "See the caveats in the documentation: https://pandas.pydata.org/pandas-docs/stable/user_guide/indexing.html#returning-a-view-versus-a-copy\n",
      "  bucknell_matches.loc[:, 'prediction_result'] = bucknell_matches['prediction'].map(prediction_map)\n"
     ]
    }
   ],
   "execution_count": 54
  },
  {
   "metadata": {
    "ExecuteTime": {
     "end_time": "2025-03-24T23:39:14.707599Z",
     "start_time": "2025-03-24T23:39:14.704125Z"
    }
   },
   "cell_type": "code",
   "source": [
    "# Display actual vs predicted results for Bucknell\n",
    "bucknell_matches.loc[:, 'actual_result'] = bucknell_matches['Result'].map({\"W\": \"Home Win\", \"L\": \"Away Win\", \"D\": \"Draw\"})\n",
    "\n",
    "print(\"\\nBucknell matches with predictions:\")\n",
    "print(bucknell_matches[['Date', 'home_team', 'away_team', 'goals_home', 'goals_away',\n",
    "                        'actual_result', 'prediction_result']])\n"
   ],
   "id": "aacbe52a0ba1cf16",
   "outputs": [
    {
     "name": "stdout",
     "output_type": "stream",
     "text": [
      "\n",
      "Bucknell matches with predictions:\n",
      "         Date home_team        away_team  goals_home  goals_away  \\\n",
      "14 2024-10-11      Navy         Bucknell           1           0   \n",
      "19 2024-10-16  Bucknell           Loyola           0           1   \n",
      "32 2024-10-30  Bucknell           Lehigh           0           2   \n",
      "37 2024-10-05  Bucknell       Holy Cross           0           1   \n",
      "39 2024-09-21  Bucknell          Colgate           0           3   \n",
      "41 2024-09-28  Bucknell  Army West Point           1           0   \n",
      "\n",
      "   actual_result prediction_result  \n",
      "14      Home Win          Home Win  \n",
      "19      Away Win              Draw  \n",
      "32      Away Win              Draw  \n",
      "37      Away Win              Draw  \n",
      "39      Away Win              Draw  \n",
      "41      Home Win              Draw  \n"
     ]
    },
    {
     "name": "stderr",
     "output_type": "stream",
     "text": [
      "/var/folders/n1/bmjsnf2966g83zq6vpf1f_xh0000gn/T/ipykernel_29323/3683428127.py:2: SettingWithCopyWarning: \n",
      "A value is trying to be set on a copy of a slice from a DataFrame.\n",
      "Try using .loc[row_indexer,col_indexer] = value instead\n",
      "\n",
      "See the caveats in the documentation: https://pandas.pydata.org/pandas-docs/stable/user_guide/indexing.html#returning-a-view-versus-a-copy\n",
      "  bucknell_matches.loc[:, 'actual_result'] = bucknell_matches['Result'].map({\"W\": \"Home Win\", \"L\": \"Away Win\", \"D\": \"Draw\"})\n"
     ]
    }
   ],
   "execution_count": 55
  },
  {
   "metadata": {
    "ExecuteTime": {
     "end_time": "2025-03-24T23:39:14.727388Z",
     "start_time": "2025-03-24T23:39:14.724580Z"
    }
   },
   "cell_type": "code",
   "source": [
    "# Calculate predicted points for Bucknell\n",
    "bucknell_points = 0\n",
    "for _, match in bucknell_matches.iterrows():\n",
    "    is_home = match['home_team'] == 'Bucknell'\n",
    "    prediction = match['prediction']\n",
    "\n",
    "    # Home team wins (1)\n",
    "    if is_home and prediction == 1:\n",
    "        bucknell_points += 3\n",
    "    # Away team wins (0)\n",
    "    elif not is_home and prediction == 0:\n",
    "        bucknell_points += 3\n",
    "    # Draw (2)\n",
    "    elif prediction == 2:\n",
    "        bucknell_points += 1\n",
    "\n",
    "print(f\"\\nPredicted points for Bucknell: {bucknell_points}\")"
   ],
   "id": "cef3625a0dce67e",
   "outputs": [
    {
     "name": "stdout",
     "output_type": "stream",
     "text": [
      "\n",
      "Predicted points for Bucknell: 5\n"
     ]
    }
   ],
   "execution_count": 56
  },
  {
   "metadata": {
    "ExecuteTime": {
     "end_time": "2025-03-24T23:39:14.747852Z",
     "start_time": "2025-03-24T23:39:14.743378Z"
    }
   },
   "cell_type": "code",
   "source": [
    "# Calculate home/away win rates\n",
    "home_wins = len(bucknell_matches[(bucknell_matches['home_team'] == 'Bucknell') &\n",
    "                                 (bucknell_matches['prediction'] == 1)])\n",
    "away_wins = len(bucknell_matches[(bucknell_matches['away_team'] == 'Bucknell') &\n",
    "                                 (bucknell_matches['prediction'] == 0)])\n",
    "draws = len(bucknell_matches[bucknell_matches['prediction'] == 2])\n",
    "\n",
    "total_home_matches = len(bucknell_matches[bucknell_matches['home_team'] == 'Bucknell'])\n",
    "total_away_matches = len(bucknell_matches[bucknell_matches['away_team'] == 'Bucknell'])\n",
    "\n",
    "print(f\"\\nBucknell home win rate: {home_wins}/{total_home_matches if total_home_matches > 0 else 'No home matches'}\")\n",
    "print(f\"Bucknell away win rate: {away_wins}/{total_away_matches if total_away_matches > 0 else 'No away matches'}\")\n",
    "print(f\"Bucknell draws: {draws}/{len(bucknell_matches)}\")"
   ],
   "id": "7b46a364b0cffa63",
   "outputs": [
    {
     "name": "stdout",
     "output_type": "stream",
     "text": [
      "\n",
      "Bucknell home win rate: 0/5\n",
      "Bucknell away win rate: 0/1\n",
      "Bucknell draws: 5/6\n"
     ]
    }
   ],
   "execution_count": 57
  },
  {
   "metadata": {
    "ExecuteTime": {
     "end_time": "2025-03-24T23:39:14.779998Z",
     "start_time": "2025-03-24T23:39:14.777481Z"
    }
   },
   "cell_type": "code",
   "source": [
    "# Compare predictions to actual results if available\n",
    "matches_with_results = bucknell_matches[bucknell_matches['Result'].notna()]\n",
    "if len(matches_with_results) > 0:\n",
    "    correct_predictions = sum(matches_with_results['prediction'] == matches_with_results['target'])\n",
    "    print(f\"\\nAccuracy for Bucknell matches: {correct_predictions}/{len(matches_with_results)} \" +\n",
    "          f\"({correct_predictions/len(matches_with_results):.2%})\")"
   ],
   "id": "91bbdd12ef85928",
   "outputs": [
    {
     "name": "stdout",
     "output_type": "stream",
     "text": [
      "\n",
      "Accuracy for Bucknell matches: 1/6 (16.67%)\n"
     ]
    }
   ],
   "execution_count": 58
  },
  {
   "metadata": {
    "ExecuteTime": {
     "end_time": "2025-03-24T23:39:14.800850Z",
     "start_time": "2025-03-24T23:39:14.798150Z"
    }
   },
   "cell_type": "code",
   "source": [
    "# Print detailed match-by-match predictions\n",
    "print(\"\\nDetailed Bucknell match predictions:\")\n",
    "for _, match in bucknell_matches.iterrows():\n",
    "    date = match['Date'].strftime('%Y-%m-%d')\n",
    "    if match['home_team'] == 'Bucknell':\n",
    "        opponent = match['away_team']\n",
    "        location = \"Home\"\n",
    "    else:\n",
    "        opponent = match['home_team']\n",
    "        location = \"Away\"\n",
    "\n",
    "    prediction = match['prediction_result']\n",
    "\n",
    "    print(f\"{date} | Bucknell vs {opponent} ({location}) | Prediction: {prediction}\")"
   ],
   "id": "9a3d582ca8c22515",
   "outputs": [
    {
     "name": "stdout",
     "output_type": "stream",
     "text": [
      "\n",
      "Detailed Bucknell match predictions:\n",
      "2024-10-11 | Bucknell vs Navy (Away) | Prediction: Home Win\n",
      "2024-10-16 | Bucknell vs Loyola (Home) | Prediction: Draw\n",
      "2024-10-30 | Bucknell vs Lehigh (Home) | Prediction: Draw\n",
      "2024-10-05 | Bucknell vs Holy Cross (Home) | Prediction: Draw\n",
      "2024-09-21 | Bucknell vs Colgate (Home) | Prediction: Draw\n",
      "2024-09-28 | Bucknell vs Army West Point (Home) | Prediction: Draw\n"
     ]
    }
   ],
   "execution_count": 59
  },
  {
   "metadata": {
    "ExecuteTime": {
     "end_time": "2025-03-24T23:39:14.804563Z",
     "start_time": "2025-03-24T23:39:14.803345Z"
    }
   },
   "cell_type": "code",
   "source": "",
   "id": "daaeceddc0c7796d",
   "outputs": [],
   "execution_count": null
  },
  {
   "metadata": {
    "ExecuteTime": {
     "end_time": "2025-03-24T23:39:14.822829Z",
     "start_time": "2025-03-24T23:39:14.821351Z"
    }
   },
   "cell_type": "code",
   "source": "",
   "id": "a2f97aa0f622cbe9",
   "outputs": [],
   "execution_count": null
  },
  {
   "metadata": {
    "ExecuteTime": {
     "end_time": "2025-03-24T23:39:14.840241Z",
     "start_time": "2025-03-24T23:39:14.838847Z"
    }
   },
   "cell_type": "code",
   "source": "",
   "id": "47624acf550727d5",
   "outputs": [],
   "execution_count": null
  },
  {
   "metadata": {
    "ExecuteTime": {
     "end_time": "2025-03-24T23:39:14.857422Z",
     "start_time": "2025-03-24T23:39:14.855852Z"
    }
   },
   "cell_type": "code",
   "source": "",
   "id": "77fe05fb976489be",
   "outputs": [],
   "execution_count": null
  },
  {
   "metadata": {
    "ExecuteTime": {
     "end_time": "2025-03-24T23:39:14.875907Z",
     "start_time": "2025-03-24T23:39:14.874411Z"
    }
   },
   "cell_type": "code",
   "source": "",
   "id": "5e3c42843443c17f",
   "outputs": [],
   "execution_count": null
  },
  {
   "metadata": {
    "ExecuteTime": {
     "end_time": "2025-03-24T23:39:14.909170Z",
     "start_time": "2025-03-24T23:39:14.907815Z"
    }
   },
   "cell_type": "code",
   "source": "",
   "id": "62586d0a07dc4f8a",
   "outputs": [],
   "execution_count": null
  },
  {
   "metadata": {
    "ExecuteTime": {
     "end_time": "2025-03-24T23:39:14.913490Z",
     "start_time": "2025-03-24T23:39:14.912201Z"
    }
   },
   "cell_type": "code",
   "source": "",
   "id": "df7102a83e81afb5",
   "outputs": [],
   "execution_count": null
  },
  {
   "metadata": {
    "ExecuteTime": {
     "end_time": "2025-03-24T23:39:14.931283Z",
     "start_time": "2025-03-24T23:39:14.929974Z"
    }
   },
   "cell_type": "code",
   "source": "",
   "id": "4e1770a033305e58",
   "outputs": [],
   "execution_count": null
  },
  {
   "metadata": {
    "ExecuteTime": {
     "end_time": "2025-03-24T23:39:14.948331Z",
     "start_time": "2025-03-24T23:39:14.946971Z"
    }
   },
   "cell_type": "code",
   "source": "",
   "id": "ed7c6b0ea2831805",
   "outputs": [],
   "execution_count": null
  },
  {
   "metadata": {
    "ExecuteTime": {
     "end_time": "2025-03-24T23:39:14.979918Z",
     "start_time": "2025-03-24T23:39:14.978044Z"
    }
   },
   "cell_type": "code",
   "source": "",
   "id": "f4e6dbeed37ea0b9",
   "outputs": [],
   "execution_count": null
  }
 ],
 "metadata": {
  "kernelspec": {
   "display_name": "Python 3",
   "language": "python",
   "name": "python3"
  },
  "language_info": {
   "codemirror_mode": {
    "name": "ipython",
    "version": 2
   },
   "file_extension": ".py",
   "mimetype": "text/x-python",
   "name": "python",
   "nbconvert_exporter": "python",
   "pygments_lexer": "ipython2",
   "version": "2.7.6"
  }
 },
 "nbformat": 4,
 "nbformat_minor": 5
}
