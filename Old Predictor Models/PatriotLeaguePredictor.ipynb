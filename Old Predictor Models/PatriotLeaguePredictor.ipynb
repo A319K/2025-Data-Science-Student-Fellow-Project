{
 "cells": [
  {
   "cell_type": "code",
   "id": "initial_id",
   "metadata": {
    "collapsed": true,
    "ExecuteTime": {
     "end_time": "2025-03-24T23:39:00.900408Z",
     "start_time": "2025-03-24T23:39:00.896115Z"
    }
   },
   "source": [
    "import pandas as pd\n",
    "import numpy as np\n",
    "from sklearn.model_selection import train_test_split\n",
    "from sklearn.ensemble import RandomForestClassifier\n",
    "from sklearn.preprocessing import LabelEncoder\n",
    "from sklearn.metrics import accuracy_score"
   ],
   "outputs": [],
   "execution_count": 281
  },
  {
   "metadata": {
    "ExecuteTime": {
     "end_time": "2025-03-24T23:39:00.928012Z",
     "start_time": "2025-03-24T23:39:00.904778Z"
    }
   },
   "cell_type": "code",
   "source": [
    "# Load the match data from excel file\n",
    "df = pd.read_excel('match_data.xlsx', sheet_name='Sheet2')\n"
   ],
   "id": "66c8f20c4b7c5151",
   "outputs": [],
   "execution_count": 282
  },
  {
   "metadata": {
    "ExecuteTime": {
     "end_time": "2025-03-24T23:39:00.958640Z",
     "start_time": "2025-03-24T23:39:00.955507Z"
    }
   },
   "cell_type": "code",
   "source": [
    "# Data preprocessing\n",
    "# Convert date to datetime format\n",
    "df['Date'] = pd.to_datetime(df['Date'], errors='coerce')"
   ],
   "id": "5aac2dc508c6ae78",
   "outputs": [],
   "execution_count": 283
  },
  {
   "metadata": {
    "ExecuteTime": {
     "end_time": "2025-03-24T23:39:00.982475Z",
     "start_time": "2025-03-24T23:39:00.979081Z"
    }
   },
   "cell_type": "code",
   "source": [
    "# Create encodings for categorical variables\n",
    "df[\"home_team_code\"] = df[\"home_team\"].astype(\"category\").cat.codes\n",
    "df[\"away_team_code\"] = df[\"away_team\"].astype(\"category\").cat.codes\n",
    "df[\"stadium_code\"] = df[\"Stadium\"].astype(\"category\").cat.codes\n",
    "df[\"day_of_week\"] = df[\"Date\"].dt.dayofweek"
   ],
   "id": "bf3e86bb82ee37bf",
   "outputs": [],
   "execution_count": 284
  },
  {
   "metadata": {
    "ExecuteTime": {
     "end_time": "2025-03-24T23:39:01.009968Z",
     "start_time": "2025-03-24T23:39:01.006058Z"
    }
   },
   "cell_type": "code",
   "source": [
    "# Create target variable based on goals scored\n",
    "# Using a more verbose approach to avoid potential issues with np.where\n",
    "result_list = []\n",
    "for idx, row in df.iterrows():\n",
    "    if row['goals_home'] > row['goals_away']:\n",
    "        result_list.append('W')\n",
    "    elif row['goals_home'] < row['goals_away']:\n",
    "        result_list.append('L')\n",
    "    else:\n",
    "        result_list.append('D')\n",
    "\n",
    "df[\"Result\"] = result_list"
   ],
   "id": "45d24af128411422",
   "outputs": [],
   "execution_count": 285
  },
  {
   "metadata": {
    "ExecuteTime": {
     "end_time": "2025-03-24T23:39:01.038349Z",
     "start_time": "2025-03-24T23:39:01.035985Z"
    }
   },
   "cell_type": "code",
   "source": [
    "# Map results to target values\n",
    "df[\"target\"] = df[\"Result\"].map({\"W\": 1, \"L\": 0, \"D\": 2})"
   ],
   "id": "82e68dadbe8a5b90",
   "outputs": [],
   "execution_count": 286
  },
  {
   "metadata": {
    "ExecuteTime": {
     "end_time": "2025-03-24T23:39:01.061374Z",
     "start_time": "2025-03-24T23:39:01.058658Z"
    }
   },
   "cell_type": "code",
   "source": [
    "# Calculate home and away points per game\n",
    "# Group by home team and calculate average goals\n",
    "home_stats = df.groupby('home_team')['goals_home'].mean().reset_index()\n",
    "home_stats.columns = ['team', 'home_ppg']"
   ],
   "id": "f8a50371ab483f9e",
   "outputs": [],
   "execution_count": 287
  },
  {
   "metadata": {
    "ExecuteTime": {
     "end_time": "2025-03-24T23:39:01.083801Z",
     "start_time": "2025-03-24T23:39:01.081583Z"
    }
   },
   "cell_type": "code",
   "source": [
    "# Group by away team and calculate average goals\n",
    "away_stats = df.groupby('away_team')['goals_away'].mean().reset_index()\n",
    "away_stats.columns = ['team', 'away_ppg']"
   ],
   "id": "c8970582c6e17b6d",
   "outputs": [],
   "execution_count": 288
  },
  {
   "metadata": {
    "ExecuteTime": {
     "end_time": "2025-03-24T23:39:01.132847Z",
     "start_time": "2025-03-24T23:39:01.125548Z"
    }
   },
   "cell_type": "code",
   "source": [
    "# Merge with the main dataframe\n",
    "df = pd.merge(df, home_stats, left_on='home_team', right_on='team', how='left')\n",
    "df = pd.merge(df, away_stats, left_on='away_team', right_on='team', how='left')"
   ],
   "id": "438ca604c39062e4",
   "outputs": [],
   "execution_count": 289
  },
  {
   "metadata": {
    "ExecuteTime": {
     "end_time": "2025-03-24T23:39:01.154838Z",
     "start_time": "2025-03-24T23:39:01.152736Z"
    }
   },
   "cell_type": "code",
   "source": [
    "# Drop the unnecessary columns\n",
    "df.drop(['team_x', 'team_y'], axis=1, inplace=True, errors='ignore')"
   ],
   "id": "62ef3cedd39c156e",
   "outputs": [],
   "execution_count": 290
  },
  {
   "metadata": {
    "ExecuteTime": {
     "end_time": "2025-03-24T23:39:01.177073Z",
     "start_time": "2025-03-24T23:39:01.175310Z"
    }
   },
   "cell_type": "code",
   "source": [
    "# Define predictors (features) for the model\n",
    "predictors = [\"home_team_code\", \"away_team_code\", \"stadium_code\", \"day_of_week\",\n",
    "              \"home_ppg\", \"away_ppg\"]"
   ],
   "id": "411e2921453de744",
   "outputs": [],
   "execution_count": 291
  },
  {
   "metadata": {
    "ExecuteTime": {
     "end_time": "2025-03-24T23:39:01.221096Z",
     "start_time": "2025-03-24T23:39:01.217174Z"
    }
   },
   "cell_type": "code",
   "source": [
    "# Split data into training and testing sets\n",
    "# Since all data is from Sep-Oct 2024, use a random split instead of date-based\n",
    "from sklearn.model_selection import train_test_split"
   ],
   "id": "63a9d43bb24804ee",
   "outputs": [],
   "execution_count": 292
  },
  {
   "metadata": {
    "ExecuteTime": {
     "end_time": "2025-03-24T23:39:01.228624Z",
     "start_time": "2025-03-24T23:39:01.224685Z"
    }
   },
   "cell_type": "code",
   "source": [
    " #Use 70% for training, 15% for testing, 15% for future predictions\n",
    "train_data, temp_data = train_test_split(df, test_size=0.3, random_state=42)\n",
    "test_data, future_data = train_test_split(temp_data, test_size=0.5, random_state=42)"
   ],
   "id": "4aa32b759706bae8",
   "outputs": [],
   "execution_count": 293
  },
  {
   "metadata": {
    "ExecuteTime": {
     "end_time": "2025-03-24T23:39:01.666089Z",
     "start_time": "2025-03-24T23:39:01.253020Z"
    }
   },
   "cell_type": "code",
   "source": [
    "# Initialize and train the model\n",
    "rf = RandomForestClassifier(\n",
    "    n_estimators=1000,\n",
    "    max_depth=100,\n",
    "    min_samples_split=5,\n",
    "    class_weight='balanced',\n",
    "    random_state=100\n",
    ")\n",
    "rf.fit(train_data[predictors], train_data[\"target\"])"
   ],
   "id": "fb94ad469f8c8b0d",
   "outputs": [
    {
     "data": {
      "text/plain": [
       "RandomForestClassifier(class_weight='balanced', max_depth=100,\n",
       "                       min_samples_split=5, n_estimators=1000,\n",
       "                       random_state=100)"
      ],
      "text/html": [
       "<style>#sk-container-id-16 {\n",
       "  /* Definition of color scheme common for light and dark mode */\n",
       "  --sklearn-color-text: #000;\n",
       "  --sklearn-color-text-muted: #666;\n",
       "  --sklearn-color-line: gray;\n",
       "  /* Definition of color scheme for unfitted estimators */\n",
       "  --sklearn-color-unfitted-level-0: #fff5e6;\n",
       "  --sklearn-color-unfitted-level-1: #f6e4d2;\n",
       "  --sklearn-color-unfitted-level-2: #ffe0b3;\n",
       "  --sklearn-color-unfitted-level-3: chocolate;\n",
       "  /* Definition of color scheme for fitted estimators */\n",
       "  --sklearn-color-fitted-level-0: #f0f8ff;\n",
       "  --sklearn-color-fitted-level-1: #d4ebff;\n",
       "  --sklearn-color-fitted-level-2: #b3dbfd;\n",
       "  --sklearn-color-fitted-level-3: cornflowerblue;\n",
       "\n",
       "  /* Specific color for light theme */\n",
       "  --sklearn-color-text-on-default-background: var(--sg-text-color, var(--theme-code-foreground, var(--jp-content-font-color1, black)));\n",
       "  --sklearn-color-background: var(--sg-background-color, var(--theme-background, var(--jp-layout-color0, white)));\n",
       "  --sklearn-color-border-box: var(--sg-text-color, var(--theme-code-foreground, var(--jp-content-font-color1, black)));\n",
       "  --sklearn-color-icon: #696969;\n",
       "\n",
       "  @media (prefers-color-scheme: dark) {\n",
       "    /* Redefinition of color scheme for dark theme */\n",
       "    --sklearn-color-text-on-default-background: var(--sg-text-color, var(--theme-code-foreground, var(--jp-content-font-color1, white)));\n",
       "    --sklearn-color-background: var(--sg-background-color, var(--theme-background, var(--jp-layout-color0, #111)));\n",
       "    --sklearn-color-border-box: var(--sg-text-color, var(--theme-code-foreground, var(--jp-content-font-color1, white)));\n",
       "    --sklearn-color-icon: #878787;\n",
       "  }\n",
       "}\n",
       "\n",
       "#sk-container-id-16 {\n",
       "  color: var(--sklearn-color-text);\n",
       "}\n",
       "\n",
       "#sk-container-id-16 pre {\n",
       "  padding: 0;\n",
       "}\n",
       "\n",
       "#sk-container-id-16 input.sk-hidden--visually {\n",
       "  border: 0;\n",
       "  clip: rect(1px 1px 1px 1px);\n",
       "  clip: rect(1px, 1px, 1px, 1px);\n",
       "  height: 1px;\n",
       "  margin: -1px;\n",
       "  overflow: hidden;\n",
       "  padding: 0;\n",
       "  position: absolute;\n",
       "  width: 1px;\n",
       "}\n",
       "\n",
       "#sk-container-id-16 div.sk-dashed-wrapped {\n",
       "  border: 1px dashed var(--sklearn-color-line);\n",
       "  margin: 0 0.4em 0.5em 0.4em;\n",
       "  box-sizing: border-box;\n",
       "  padding-bottom: 0.4em;\n",
       "  background-color: var(--sklearn-color-background);\n",
       "}\n",
       "\n",
       "#sk-container-id-16 div.sk-container {\n",
       "  /* jupyter's `normalize.less` sets `[hidden] { display: none; }`\n",
       "     but bootstrap.min.css set `[hidden] { display: none !important; }`\n",
       "     so we also need the `!important` here to be able to override the\n",
       "     default hidden behavior on the sphinx rendered scikit-learn.org.\n",
       "     See: https://github.com/scikit-learn/scikit-learn/issues/21755 */\n",
       "  display: inline-block !important;\n",
       "  position: relative;\n",
       "}\n",
       "\n",
       "#sk-container-id-16 div.sk-text-repr-fallback {\n",
       "  display: none;\n",
       "}\n",
       "\n",
       "div.sk-parallel-item,\n",
       "div.sk-serial,\n",
       "div.sk-item {\n",
       "  /* draw centered vertical line to link estimators */\n",
       "  background-image: linear-gradient(var(--sklearn-color-text-on-default-background), var(--sklearn-color-text-on-default-background));\n",
       "  background-size: 2px 100%;\n",
       "  background-repeat: no-repeat;\n",
       "  background-position: center center;\n",
       "}\n",
       "\n",
       "/* Parallel-specific style estimator block */\n",
       "\n",
       "#sk-container-id-16 div.sk-parallel-item::after {\n",
       "  content: \"\";\n",
       "  width: 100%;\n",
       "  border-bottom: 2px solid var(--sklearn-color-text-on-default-background);\n",
       "  flex-grow: 1;\n",
       "}\n",
       "\n",
       "#sk-container-id-16 div.sk-parallel {\n",
       "  display: flex;\n",
       "  align-items: stretch;\n",
       "  justify-content: center;\n",
       "  background-color: var(--sklearn-color-background);\n",
       "  position: relative;\n",
       "}\n",
       "\n",
       "#sk-container-id-16 div.sk-parallel-item {\n",
       "  display: flex;\n",
       "  flex-direction: column;\n",
       "}\n",
       "\n",
       "#sk-container-id-16 div.sk-parallel-item:first-child::after {\n",
       "  align-self: flex-end;\n",
       "  width: 50%;\n",
       "}\n",
       "\n",
       "#sk-container-id-16 div.sk-parallel-item:last-child::after {\n",
       "  align-self: flex-start;\n",
       "  width: 50%;\n",
       "}\n",
       "\n",
       "#sk-container-id-16 div.sk-parallel-item:only-child::after {\n",
       "  width: 0;\n",
       "}\n",
       "\n",
       "/* Serial-specific style estimator block */\n",
       "\n",
       "#sk-container-id-16 div.sk-serial {\n",
       "  display: flex;\n",
       "  flex-direction: column;\n",
       "  align-items: center;\n",
       "  background-color: var(--sklearn-color-background);\n",
       "  padding-right: 1em;\n",
       "  padding-left: 1em;\n",
       "}\n",
       "\n",
       "\n",
       "/* Toggleable style: style used for estimator/Pipeline/ColumnTransformer box that is\n",
       "clickable and can be expanded/collapsed.\n",
       "- Pipeline and ColumnTransformer use this feature and define the default style\n",
       "- Estimators will overwrite some part of the style using the `sk-estimator` class\n",
       "*/\n",
       "\n",
       "/* Pipeline and ColumnTransformer style (default) */\n",
       "\n",
       "#sk-container-id-16 div.sk-toggleable {\n",
       "  /* Default theme specific background. It is overwritten whether we have a\n",
       "  specific estimator or a Pipeline/ColumnTransformer */\n",
       "  background-color: var(--sklearn-color-background);\n",
       "}\n",
       "\n",
       "/* Toggleable label */\n",
       "#sk-container-id-16 label.sk-toggleable__label {\n",
       "  cursor: pointer;\n",
       "  display: flex;\n",
       "  width: 100%;\n",
       "  margin-bottom: 0;\n",
       "  padding: 0.5em;\n",
       "  box-sizing: border-box;\n",
       "  text-align: center;\n",
       "  align-items: start;\n",
       "  justify-content: space-between;\n",
       "  gap: 0.5em;\n",
       "}\n",
       "\n",
       "#sk-container-id-16 label.sk-toggleable__label .caption {\n",
       "  font-size: 0.6rem;\n",
       "  font-weight: lighter;\n",
       "  color: var(--sklearn-color-text-muted);\n",
       "}\n",
       "\n",
       "#sk-container-id-16 label.sk-toggleable__label-arrow:before {\n",
       "  /* Arrow on the left of the label */\n",
       "  content: \"▸\";\n",
       "  float: left;\n",
       "  margin-right: 0.25em;\n",
       "  color: var(--sklearn-color-icon);\n",
       "}\n",
       "\n",
       "#sk-container-id-16 label.sk-toggleable__label-arrow:hover:before {\n",
       "  color: var(--sklearn-color-text);\n",
       "}\n",
       "\n",
       "/* Toggleable content - dropdown */\n",
       "\n",
       "#sk-container-id-16 div.sk-toggleable__content {\n",
       "  max-height: 0;\n",
       "  max-width: 0;\n",
       "  overflow: hidden;\n",
       "  text-align: left;\n",
       "  /* unfitted */\n",
       "  background-color: var(--sklearn-color-unfitted-level-0);\n",
       "}\n",
       "\n",
       "#sk-container-id-16 div.sk-toggleable__content.fitted {\n",
       "  /* fitted */\n",
       "  background-color: var(--sklearn-color-fitted-level-0);\n",
       "}\n",
       "\n",
       "#sk-container-id-16 div.sk-toggleable__content pre {\n",
       "  margin: 0.2em;\n",
       "  border-radius: 0.25em;\n",
       "  color: var(--sklearn-color-text);\n",
       "  /* unfitted */\n",
       "  background-color: var(--sklearn-color-unfitted-level-0);\n",
       "}\n",
       "\n",
       "#sk-container-id-16 div.sk-toggleable__content.fitted pre {\n",
       "  /* unfitted */\n",
       "  background-color: var(--sklearn-color-fitted-level-0);\n",
       "}\n",
       "\n",
       "#sk-container-id-16 input.sk-toggleable__control:checked~div.sk-toggleable__content {\n",
       "  /* Expand drop-down */\n",
       "  max-height: 200px;\n",
       "  max-width: 100%;\n",
       "  overflow: auto;\n",
       "}\n",
       "\n",
       "#sk-container-id-16 input.sk-toggleable__control:checked~label.sk-toggleable__label-arrow:before {\n",
       "  content: \"▾\";\n",
       "}\n",
       "\n",
       "/* Pipeline/ColumnTransformer-specific style */\n",
       "\n",
       "#sk-container-id-16 div.sk-label input.sk-toggleable__control:checked~label.sk-toggleable__label {\n",
       "  color: var(--sklearn-color-text);\n",
       "  background-color: var(--sklearn-color-unfitted-level-2);\n",
       "}\n",
       "\n",
       "#sk-container-id-16 div.sk-label.fitted input.sk-toggleable__control:checked~label.sk-toggleable__label {\n",
       "  background-color: var(--sklearn-color-fitted-level-2);\n",
       "}\n",
       "\n",
       "/* Estimator-specific style */\n",
       "\n",
       "/* Colorize estimator box */\n",
       "#sk-container-id-16 div.sk-estimator input.sk-toggleable__control:checked~label.sk-toggleable__label {\n",
       "  /* unfitted */\n",
       "  background-color: var(--sklearn-color-unfitted-level-2);\n",
       "}\n",
       "\n",
       "#sk-container-id-16 div.sk-estimator.fitted input.sk-toggleable__control:checked~label.sk-toggleable__label {\n",
       "  /* fitted */\n",
       "  background-color: var(--sklearn-color-fitted-level-2);\n",
       "}\n",
       "\n",
       "#sk-container-id-16 div.sk-label label.sk-toggleable__label,\n",
       "#sk-container-id-16 div.sk-label label {\n",
       "  /* The background is the default theme color */\n",
       "  color: var(--sklearn-color-text-on-default-background);\n",
       "}\n",
       "\n",
       "/* On hover, darken the color of the background */\n",
       "#sk-container-id-16 div.sk-label:hover label.sk-toggleable__label {\n",
       "  color: var(--sklearn-color-text);\n",
       "  background-color: var(--sklearn-color-unfitted-level-2);\n",
       "}\n",
       "\n",
       "/* Label box, darken color on hover, fitted */\n",
       "#sk-container-id-16 div.sk-label.fitted:hover label.sk-toggleable__label.fitted {\n",
       "  color: var(--sklearn-color-text);\n",
       "  background-color: var(--sklearn-color-fitted-level-2);\n",
       "}\n",
       "\n",
       "/* Estimator label */\n",
       "\n",
       "#sk-container-id-16 div.sk-label label {\n",
       "  font-family: monospace;\n",
       "  font-weight: bold;\n",
       "  display: inline-block;\n",
       "  line-height: 1.2em;\n",
       "}\n",
       "\n",
       "#sk-container-id-16 div.sk-label-container {\n",
       "  text-align: center;\n",
       "}\n",
       "\n",
       "/* Estimator-specific */\n",
       "#sk-container-id-16 div.sk-estimator {\n",
       "  font-family: monospace;\n",
       "  border: 1px dotted var(--sklearn-color-border-box);\n",
       "  border-radius: 0.25em;\n",
       "  box-sizing: border-box;\n",
       "  margin-bottom: 0.5em;\n",
       "  /* unfitted */\n",
       "  background-color: var(--sklearn-color-unfitted-level-0);\n",
       "}\n",
       "\n",
       "#sk-container-id-16 div.sk-estimator.fitted {\n",
       "  /* fitted */\n",
       "  background-color: var(--sklearn-color-fitted-level-0);\n",
       "}\n",
       "\n",
       "/* on hover */\n",
       "#sk-container-id-16 div.sk-estimator:hover {\n",
       "  /* unfitted */\n",
       "  background-color: var(--sklearn-color-unfitted-level-2);\n",
       "}\n",
       "\n",
       "#sk-container-id-16 div.sk-estimator.fitted:hover {\n",
       "  /* fitted */\n",
       "  background-color: var(--sklearn-color-fitted-level-2);\n",
       "}\n",
       "\n",
       "/* Specification for estimator info (e.g. \"i\" and \"?\") */\n",
       "\n",
       "/* Common style for \"i\" and \"?\" */\n",
       "\n",
       ".sk-estimator-doc-link,\n",
       "a:link.sk-estimator-doc-link,\n",
       "a:visited.sk-estimator-doc-link {\n",
       "  float: right;\n",
       "  font-size: smaller;\n",
       "  line-height: 1em;\n",
       "  font-family: monospace;\n",
       "  background-color: var(--sklearn-color-background);\n",
       "  border-radius: 1em;\n",
       "  height: 1em;\n",
       "  width: 1em;\n",
       "  text-decoration: none !important;\n",
       "  margin-left: 0.5em;\n",
       "  text-align: center;\n",
       "  /* unfitted */\n",
       "  border: var(--sklearn-color-unfitted-level-1) 1pt solid;\n",
       "  color: var(--sklearn-color-unfitted-level-1);\n",
       "}\n",
       "\n",
       ".sk-estimator-doc-link.fitted,\n",
       "a:link.sk-estimator-doc-link.fitted,\n",
       "a:visited.sk-estimator-doc-link.fitted {\n",
       "  /* fitted */\n",
       "  border: var(--sklearn-color-fitted-level-1) 1pt solid;\n",
       "  color: var(--sklearn-color-fitted-level-1);\n",
       "}\n",
       "\n",
       "/* On hover */\n",
       "div.sk-estimator:hover .sk-estimator-doc-link:hover,\n",
       ".sk-estimator-doc-link:hover,\n",
       "div.sk-label-container:hover .sk-estimator-doc-link:hover,\n",
       ".sk-estimator-doc-link:hover {\n",
       "  /* unfitted */\n",
       "  background-color: var(--sklearn-color-unfitted-level-3);\n",
       "  color: var(--sklearn-color-background);\n",
       "  text-decoration: none;\n",
       "}\n",
       "\n",
       "div.sk-estimator.fitted:hover .sk-estimator-doc-link.fitted:hover,\n",
       ".sk-estimator-doc-link.fitted:hover,\n",
       "div.sk-label-container:hover .sk-estimator-doc-link.fitted:hover,\n",
       ".sk-estimator-doc-link.fitted:hover {\n",
       "  /* fitted */\n",
       "  background-color: var(--sklearn-color-fitted-level-3);\n",
       "  color: var(--sklearn-color-background);\n",
       "  text-decoration: none;\n",
       "}\n",
       "\n",
       "/* Span, style for the box shown on hovering the info icon */\n",
       ".sk-estimator-doc-link span {\n",
       "  display: none;\n",
       "  z-index: 9999;\n",
       "  position: relative;\n",
       "  font-weight: normal;\n",
       "  right: .2ex;\n",
       "  padding: .5ex;\n",
       "  margin: .5ex;\n",
       "  width: min-content;\n",
       "  min-width: 20ex;\n",
       "  max-width: 50ex;\n",
       "  color: var(--sklearn-color-text);\n",
       "  box-shadow: 2pt 2pt 4pt #999;\n",
       "  /* unfitted */\n",
       "  background: var(--sklearn-color-unfitted-level-0);\n",
       "  border: .5pt solid var(--sklearn-color-unfitted-level-3);\n",
       "}\n",
       "\n",
       ".sk-estimator-doc-link.fitted span {\n",
       "  /* fitted */\n",
       "  background: var(--sklearn-color-fitted-level-0);\n",
       "  border: var(--sklearn-color-fitted-level-3);\n",
       "}\n",
       "\n",
       ".sk-estimator-doc-link:hover span {\n",
       "  display: block;\n",
       "}\n",
       "\n",
       "/* \"?\"-specific style due to the `<a>` HTML tag */\n",
       "\n",
       "#sk-container-id-16 a.estimator_doc_link {\n",
       "  float: right;\n",
       "  font-size: 1rem;\n",
       "  line-height: 1em;\n",
       "  font-family: monospace;\n",
       "  background-color: var(--sklearn-color-background);\n",
       "  border-radius: 1rem;\n",
       "  height: 1rem;\n",
       "  width: 1rem;\n",
       "  text-decoration: none;\n",
       "  /* unfitted */\n",
       "  color: var(--sklearn-color-unfitted-level-1);\n",
       "  border: var(--sklearn-color-unfitted-level-1) 1pt solid;\n",
       "}\n",
       "\n",
       "#sk-container-id-16 a.estimator_doc_link.fitted {\n",
       "  /* fitted */\n",
       "  border: var(--sklearn-color-fitted-level-1) 1pt solid;\n",
       "  color: var(--sklearn-color-fitted-level-1);\n",
       "}\n",
       "\n",
       "/* On hover */\n",
       "#sk-container-id-16 a.estimator_doc_link:hover {\n",
       "  /* unfitted */\n",
       "  background-color: var(--sklearn-color-unfitted-level-3);\n",
       "  color: var(--sklearn-color-background);\n",
       "  text-decoration: none;\n",
       "}\n",
       "\n",
       "#sk-container-id-16 a.estimator_doc_link.fitted:hover {\n",
       "  /* fitted */\n",
       "  background-color: var(--sklearn-color-fitted-level-3);\n",
       "}\n",
       "</style><div id=\"sk-container-id-16\" class=\"sk-top-container\"><div class=\"sk-text-repr-fallback\"><pre>RandomForestClassifier(class_weight=&#x27;balanced&#x27;, max_depth=100,\n",
       "                       min_samples_split=5, n_estimators=1000,\n",
       "                       random_state=100)</pre><b>In a Jupyter environment, please rerun this cell to show the HTML representation or trust the notebook. <br />On GitHub, the HTML representation is unable to render, please try loading this page with nbviewer.org.</b></div><div class=\"sk-container\" hidden><div class=\"sk-item\"><div class=\"sk-estimator fitted sk-toggleable\"><input class=\"sk-toggleable__control sk-hidden--visually\" id=\"sk-estimator-id-16\" type=\"checkbox\" checked><label for=\"sk-estimator-id-16\" class=\"sk-toggleable__label fitted sk-toggleable__label-arrow\"><div><div>RandomForestClassifier</div></div><div><a class=\"sk-estimator-doc-link fitted\" rel=\"noreferrer\" target=\"_blank\" href=\"https://scikit-learn.org/1.6/modules/generated/sklearn.ensemble.RandomForestClassifier.html\">?<span>Documentation for RandomForestClassifier</span></a><span class=\"sk-estimator-doc-link fitted\">i<span>Fitted</span></span></div></label><div class=\"sk-toggleable__content fitted\"><pre>RandomForestClassifier(class_weight=&#x27;balanced&#x27;, max_depth=100,\n",
       "                       min_samples_split=5, n_estimators=1000,\n",
       "                       random_state=100)</pre></div> </div></div></div></div>"
      ]
     },
     "execution_count": 294,
     "metadata": {},
     "output_type": "execute_result"
    }
   ],
   "execution_count": 294
  },
  {
   "metadata": {
    "ExecuteTime": {
     "end_time": "2025-03-24T23:39:01.710785Z",
     "start_time": "2025-03-24T23:39:01.686721Z"
    }
   },
   "cell_type": "code",
   "source": [
    "# Make predictions on test data\n",
    "preds = rf.predict(test_data[predictors])"
   ],
   "id": "9ccf2c9b02bde69e",
   "outputs": [],
   "execution_count": 295
  },
  {
   "metadata": {
    "ExecuteTime": {
     "end_time": "2025-03-24T23:39:01.732979Z",
     "start_time": "2025-03-24T23:39:01.730736Z"
    }
   },
   "cell_type": "code",
   "source": [
    "# Evaluate model accuracy\n",
    "accuracy = accuracy_score(test_data[\"target\"], preds)\n",
    "print(f\"Model accuracy: {accuracy:.4f}\")"
   ],
   "id": "9ff8f49150d0d350",
   "outputs": [
    {
     "name": "stdout",
     "output_type": "stream",
     "text": [
      "Model accuracy: 0.6667\n"
     ]
    }
   ],
   "execution_count": 296
  },
  {
   "metadata": {
    "ExecuteTime": {
     "end_time": "2025-03-24T23:39:01.759213Z",
     "start_time": "2025-03-24T23:39:01.753988Z"
    }
   },
   "cell_type": "code",
   "source": [
    "# Create confusion matrix\n",
    "combined = pd.DataFrame(dict(actual=test_data[\"target\"], predicted=preds))\n",
    "confusion_matrix = pd.crosstab(index=combined[\"actual\"], columns=combined[\"predicted\"])\n",
    "print(\"\\nConfusion Matrix:\")\n",
    "print(confusion_matrix)"
   ],
   "id": "bc7358b6c4bae10d",
   "outputs": [
    {
     "name": "stdout",
     "output_type": "stream",
     "text": [
      "\n",
      "Confusion Matrix:\n",
      "predicted  0  1\n",
      "actual         \n",
      "0          2  0\n",
      "1          1  2\n",
      "2          1  0\n"
     ]
    }
   ],
   "execution_count": 297
  },
  {
   "metadata": {
    "ExecuteTime": {
     "end_time": "2025-03-24T23:39:01.804077Z",
     "start_time": "2025-03-24T23:39:01.779261Z"
    }
   },
   "cell_type": "code",
   "source": [
    "# Make predictions for future matches\n",
    "future_predictions = rf.predict(future_data[predictors])\n",
    "future_data[\"prediction\"] = future_predictions"
   ],
   "id": "21aad8b8b1b563d7",
   "outputs": [],
   "execution_count": 298
  },
  {
   "metadata": {
    "ExecuteTime": {
     "end_time": "2025-03-24T23:39:01.826816Z",
     "start_time": "2025-03-24T23:39:01.825069Z"
    }
   },
   "cell_type": "code",
   "source": [
    "# Analyze predictions for specific teams\n",
    "# Using actual teams from your dataset\n",
    "team1 = \"Bucknell\"\n",
    "team2 = \"Lehigh\"\n",
    "team3 = \"Loyola Maryland\""
   ],
   "id": "32bf328187614fcc",
   "outputs": [],
   "execution_count": 299
  },
  {
   "metadata": {
    "ExecuteTime": {
     "end_time": "2025-03-24T23:39:01.848996Z",
     "start_time": "2025-03-24T23:39:01.846183Z"
    }
   },
   "cell_type": "code",
   "source": [
    "team1_matches = future_data[(future_data['home_team'] == team1) | (future_data['away_team'] == team1)]\n",
    "team2_matches = future_data[(future_data['home_team'] == team2) | (future_data['away_team'] == team2)]\n",
    "team3_matches = future_data[(future_data['home_team'] == team3) | (future_data['away_team'] == team3)]"
   ],
   "id": "d428c38a0804a925",
   "outputs": [],
   "execution_count": 300
  },
  {
   "metadata": {
    "ExecuteTime": {
     "end_time": "2025-03-24T23:39:01.870504Z",
     "start_time": "2025-03-24T23:39:01.868281Z"
    }
   },
   "cell_type": "code",
   "source": [
    "# Function to calculate points based on predictions\n",
    "def calculate_points(team_matches, team_name):\n",
    "    points = 0\n",
    "    for _, match in team_matches.iterrows():\n",
    "        is_home = match['home_team'] == team_name\n",
    "        prediction = match['prediction']\n",
    "\n",
    "        # Home team wins (1) gets 3 points\n",
    "        if is_home and prediction == 1:\n",
    "            points += 3\n",
    "        # Away team wins (0) for home team means away team gets 3 points\n",
    "        elif not is_home and prediction == 0:\n",
    "            points += 3\n",
    "        # Draw (2) gets 1 point for both teams\n",
    "        elif prediction == 2:\n",
    "            points += 1\n",
    "\n",
    "    return points"
   ],
   "id": "ce8be3f43c21ff81",
   "outputs": [],
   "execution_count": 301
  },
  {
   "metadata": {
    "ExecuteTime": {
     "end_time": "2025-03-24T23:39:01.892021Z",
     "start_time": "2025-03-24T23:39:01.889780Z"
    }
   },
   "cell_type": "code",
   "source": [
    "# Calculate points for each team\n",
    "team1_points = calculate_points(team1_matches, team1)\n",
    "team2_points = calculate_points(team2_matches, team2)\n",
    "team3_points = calculate_points(team3_matches, team3)"
   ],
   "id": "8218d226f46509df",
   "outputs": [],
   "execution_count": 302
  },
  {
   "metadata": {
    "ExecuteTime": {
     "end_time": "2025-03-24T23:39:01.912733Z",
     "start_time": "2025-03-24T23:39:01.911176Z"
    }
   },
   "cell_type": "code",
   "source": [
    "# Current points (replace with actual current points from your league standings)\n",
    "team1_current_points = 10  # Replace with actual current points\n",
    "team2_current_points = 12  # Replace with actual current points\n",
    "team3_current_points = 9   # Replace with actual current points"
   ],
   "id": "2f5ddd6a62832424",
   "outputs": [],
   "execution_count": 303
  },
  {
   "metadata": {
    "ExecuteTime": {
     "end_time": "2025-03-24T23:39:01.935026Z",
     "start_time": "2025-03-24T23:39:01.933224Z"
    }
   },
   "cell_type": "code",
   "source": [
    "print(f\"\\nProjected points from remaining matches:\")\n",
    "print(f\"{team1}: {team1_points} points\")\n",
    "print(f\"{team2}: {team2_points} points\")\n",
    "print(f\"{team3}: {team3_points} points\")"
   ],
   "id": "c86fbcb6bdd9c31b",
   "outputs": [
    {
     "name": "stdout",
     "output_type": "stream",
     "text": [
      "\n",
      "Projected points from remaining matches:\n",
      "Bucknell: 0 points\n",
      "Lehigh: 0 points\n",
      "Loyola Maryland: 3 points\n"
     ]
    }
   ],
   "execution_count": 304
  },
  {
   "metadata": {
    "ExecuteTime": {
     "end_time": "2025-03-24T23:39:01.956815Z",
     "start_time": "2025-03-24T23:39:01.954929Z"
    }
   },
   "cell_type": "code",
   "source": [
    "print(f\"\\nProjected final standings:\")\n",
    "print(f\"{team1}: {team1_current_points + team1_points} points\")\n",
    "print(f\"{team2}: {team2_current_points + team2_points} points\")\n",
    "print(f\"{team3}: {team3_current_points + team3_points} points\")"
   ],
   "id": "d09daf284b2bbbb",
   "outputs": [
    {
     "name": "stdout",
     "output_type": "stream",
     "text": [
      "\n",
      "Projected final standings:\n",
      "Bucknell: 10 points\n",
      "Lehigh: 12 points\n",
      "Loyola Maryland: 12 points\n"
     ]
    }
   ],
   "execution_count": 305
  },
  {
   "metadata": {
    "ExecuteTime": {
     "end_time": "2025-03-24T23:39:01.981362Z",
     "start_time": "2025-03-24T23:39:01.978372Z"
    }
   },
   "cell_type": "code",
   "source": [
    "# Display detailed predictions for future matches\n",
    "#1 means home team wins, 0 means away team wins, 2 means draw\n",
    "print(\"\\nDetailed predictions for future matches:\")\n",
    "print(future_data[['Date', 'home_team', 'away_team', 'prediction']].head(10))"
   ],
   "id": "f14d10f071eecaef",
   "outputs": [
    {
     "name": "stdout",
     "output_type": "stream",
     "text": [
      "\n",
      "Detailed predictions for future matches:\n",
      "         Date   home_team        away_team  prediction\n",
      "12 2024-10-05     Colgate  Loyola Maryland           2\n",
      "6  2024-09-25        Navy  Loyola Maryland           1\n",
      "25 2024-10-19  Holy Cross  Loyola Maryland           2\n",
      "30 2024-10-26     Colgate  Army West Point           1\n",
      "39 2024-09-21    Bucknell          Colgate           0\n",
      "8  2024-09-28   Lafayette  Loyola Maryland           2\n",
      "13 2024-10-05    American        Lafayette           0\n"
     ]
    }
   ],
   "execution_count": 306
  },
  {
   "metadata": {
    "ExecuteTime": {
     "end_time": "2025-03-24T23:39:02.005526Z",
     "start_time": "2025-03-24T23:39:02.002238Z"
    }
   },
   "cell_type": "code",
   "source": [
    "# Map prediction codes to result labels for better readability\n",
    "prediction_map = {1: \"Home Win\", 0: \"Away Win\", 2: \"Draw\"}\n",
    "future_data['prediction_result'] = future_data['prediction'].map(prediction_map)\n",
    "\n",
    "print(\"\\nUpcoming matches with readable predictions:\")\n",
    "print(future_data[['Date', 'home_team', 'away_team', 'prediction_result']].head(10))"
   ],
   "id": "84ba8b6f0560039b",
   "outputs": [
    {
     "name": "stdout",
     "output_type": "stream",
     "text": [
      "\n",
      "Upcoming matches with readable predictions:\n",
      "         Date   home_team        away_team prediction_result\n",
      "12 2024-10-05     Colgate  Loyola Maryland              Draw\n",
      "6  2024-09-25        Navy  Loyola Maryland          Home Win\n",
      "25 2024-10-19  Holy Cross  Loyola Maryland              Draw\n",
      "30 2024-10-26     Colgate  Army West Point          Home Win\n",
      "39 2024-09-21    Bucknell          Colgate          Away Win\n",
      "8  2024-09-28   Lafayette  Loyola Maryland              Draw\n",
      "13 2024-10-05    American        Lafayette          Away Win\n"
     ]
    }
   ],
   "execution_count": 307
  }
 ],
 "metadata": {
  "kernelspec": {
   "display_name": "Python 3",
   "language": "python",
   "name": "python3"
  },
  "language_info": {
   "codemirror_mode": {
    "name": "ipython",
    "version": 2
   },
   "file_extension": ".py",
   "mimetype": "text/x-python",
   "name": "python",
   "nbconvert_exporter": "python",
   "pygments_lexer": "ipython2",
   "version": "2.7.6"
  }
 },
 "nbformat": 4,
 "nbformat_minor": 5
}
